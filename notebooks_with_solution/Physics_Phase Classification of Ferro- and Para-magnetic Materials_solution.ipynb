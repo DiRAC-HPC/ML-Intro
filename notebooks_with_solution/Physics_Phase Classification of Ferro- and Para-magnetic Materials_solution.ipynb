{
 "cells": [
  {
   "cell_type": "markdown",
   "metadata": {
    "id": "FCHbWpQgIBbH"
   },
   "source": [
    "# 0. Ferromagnetic phase and paramagnetic phase classification\n",
    "\n",
    "In this notebook, we attempt to classify the  ferromagnetic phase and the  paramagnetic phase. \n",
    "\n",
    "The Ising model is a mathematical model of ferromagnetism in statistical mechanics. The model consists of discrete variables that represent magnetic dipole moments of atomic \"spins\" that can be in one of two states (+1 or −1).\n",
    "\n",
    "Below a certain temperature called the Curie temperature, $T_c$, most of the spins are parallel, which results in a uniform overall state characterised by $+1$ or $-1$. This phase is called the ferromagnetic phase. Above $T_c$, magnetic dipole moments of half of the atomic \"spins\" yield $+1$ while the other half yields $-1$. This phase is called the paramagnetic phase. \n",
    "\n",
    "This work aims to classify two different types of magnetic phases: a low-temperature ferromagnetic phase and a high-temperature paramagnetic phase. The details can be found in [Machine learning phases of matter](https://doi.org/10.1038/nphys4035). "
   ]
  },
  {
   "cell_type": "code",
   "execution_count": 1,
   "metadata": {
    "colab": {
     "base_uri": "https://localhost:8080/"
    },
    "executionInfo": {
     "elapsed": 215,
     "status": "ok",
     "timestamp": 1646400786882,
     "user": {
      "displayName": "Jaehoon Cha",
      "photoUrl": "https://lh3.googleusercontent.com/a/default-user=s64",
      "userId": "15142223743084603318"
     },
     "user_tz": 0
    },
    "id": "ZlRgYuK1IBbK",
    "outputId": "c37ba266-c58b-4193-9bbf-8130343fdcc3"
   },
   "outputs": [
    {
     "name": "stdout",
     "output_type": "stream",
     "text": [
      "Using TensorFlow v2.7.0\n"
     ]
    }
   ],
   "source": [
    "# tensorflow\n",
    "import tensorflow as tf\n",
    "from tensorflow import keras\n",
    "from tensorflow.keras.models import Sequential\n",
    "from tensorflow.keras.layers import Conv2D, MaxPool2D, Dense, Flatten, Dropout, BatchNormalization\n",
    "from tensorflow.keras.callbacks import EarlyStopping\n",
    "\n",
    "# check version\n",
    "print('Using TensorFlow v%s' % tf.__version__)\n",
    "acc_str = 'accuracy' if tf.__version__[:2] == '2.' else 'acc'\n",
    "\n",
    "# helpers\n",
    "import h5py\n",
    "import numpy as np\n",
    "import matplotlib.pyplot as plt\n",
    "from os.path import join\n",
    "\n",
    "# need some certainty in data processing\n",
    "np.random.seed(1234)\n",
    "tf.random.set_seed(1234)\n"
   ]
  },
  {
   "cell_type": "markdown",
   "metadata": {
    "id": "jO5JuRWIIBbM"
   },
   "source": [
    "## Google Cloud Storage Boilerplate\n",
    "\n",
    "The following two cells have some boilerplate to mount the Google Cloud Storage bucket containing the data used for this notebook to your Google Colab file system. **Even you are not using Google Colab, please make sure you run these two cells.** \n",
    "\n",
    "To access the data from Google Colab, you need to:\n",
    "\n",
    "1. Run the first cell;\n",
    "2. Follow the link when prompted (you may be asked to log in with your Google account);\n",
    "3. Copy the Google SDK token back into the prompt and press `Enter`;\n",
    "4. Run the second cell and wait until the data folder appears.\n",
    "\n",
    "If everything works correctly, a new folder called `sciml-workshop-data` should appear in the file browser on the left. Depending on the network speed, this may take one or two minutes. Ignore the warning \"You do not appear to have access to project ...\". If you are running the notebook locally or you have already connected to the bucket, these cells will have no side effects."
   ]
  },
  {
   "cell_type": "code",
   "execution_count": 2,
   "metadata": {
    "id": "C5lZabhVIBbO"
   },
   "outputs": [],
   "source": [
    "# variables passed to bash; do not change\n",
    "project_id = 'sciml-workshop'\n",
    "bucket_name = 'sciml-workshop'\n",
    "colab_data_path = '/content/sciml-workshop-data/'\n",
    "\n",
    "try:\n",
    "    from google.colab import auth\n",
    "    auth.authenticate_user()\n",
    "    google_colab_env = 'true'\n",
    "    data_path = colab_data_path\n",
    "except:\n",
    "    google_colab_env = 'false'\n",
    "    ###################################################\n",
    "    ######## specify your local data path here ########\n",
    "    ###################################################\n",
    "    with open('../local_data_path.txt', 'r') as f: data_path = f.read().splitlines()[0]"
   ]
  },
  {
   "cell_type": "code",
   "execution_count": 3,
   "metadata": {
    "colab": {
     "base_uri": "https://localhost:8080/"
    },
    "executionInfo": {
     "elapsed": 15157,
     "status": "ok",
     "timestamp": 1646400734395,
     "user": {
      "displayName": "Jaehoon Cha",
      "photoUrl": "https://lh3.googleusercontent.com/a/default-user=s64",
      "userId": "15142223743084603318"
     },
     "user_tz": 0
    },
    "id": "Gh5jcqmkIBbO",
    "outputId": "437359c5-26fa-4ad9-fc90-2d8ff872348d"
   },
   "outputs": [
    {
     "name": "stdout",
     "output_type": "stream",
     "text": [
      "Running notebook locally.\n"
     ]
    }
   ],
   "source": [
    "%%bash -s {google_colab_env} {colab_data_path} {project_id} {bucket_name}\n",
    "\n",
    "# running locally\n",
    "if ! $1; then\n",
    "    echo \"Running notebook locally.\"\n",
    "    exit\n",
    "fi\n",
    "\n",
    "# already mounted\n",
    "if [ -d $2 ]; then\n",
    "    echo \"Data already mounted.\"\n",
    "    exit\n",
    "fi\n",
    "\n",
    "# mount the bucket\n",
    "echo \"deb http://packages.cloud.google.com/apt gcsfuse-bionic main\" > /etc/apt/sources.list.d/gcsfuse.list\n",
    "curl https://packages.cloud.google.com/apt/doc/apt-key.gpg | apt-key add -\n",
    "apt -qq update\n",
    "apt -qq install gcsfuse\n",
    "gcloud config set project $3\n",
    "mkdir $2\n",
    "gcsfuse --implicit-dirs --limit-bytes-per-sec -1 --limit-ops-per-sec -1 $4 $2"
   ]
  },
  {
   "cell_type": "markdown",
   "metadata": {
    "id": "z6V4dgeiIBbP"
   },
   "source": [
    "---"
   ]
  },
  {
   "cell_type": "markdown",
   "metadata": {
    "id": "rwQ6T23aIBbP"
   },
   "source": [
    "# 1. Load the dataset\n",
    "\n",
    "### Read raw data\n",
    "\n",
    "The data is stored in 'Physics/ising_data.npz', containing 26000, gray-scale, 32 × 32 images of the magnetic phases. We will use 20000 images to train neural networks and the rest of them to evaluate the neural networks.\n",
    "\n",
    "**Suggested Answer** \n",
    "\n",
    "<details> <summary>Show / Hide</summary> \n",
    "<p>\n",
    "    \n",
    "```python\n",
    "f = np.load(join(data_path, 'Physics/ising_data.npz'))\n",
    "n_train = 20000\n",
    "\n",
    "x_train, x_test = f[\"C\"][:n_train], f[\"C\"][n_train:]\n",
    "T_train, T_test = f[\"T\"][:n_train], f[\"T\"][n_train:]\n",
    "```\n",
    "    \n",
    "</p>\n",
    "</details>"
   ]
  },
  {
   "cell_type": "code",
   "execution_count": 4,
   "metadata": {},
   "outputs": [],
   "source": [
    "f = np.load(join(data_path, 'Physics/ising_data.npz'))\n",
    "n_train = 20000\n",
    "\n",
    "x_train, x_test = f[\"C\"][:n_train], f[\"C\"][n_train:]\n",
    "T_train, T_test = f[\"T\"][:n_train], f[\"T\"][n_train:]"
   ]
  },
  {
   "cell_type": "code",
   "execution_count": 5,
   "metadata": {
    "colab": {
     "base_uri": "https://localhost:8080/"
    },
    "executionInfo": {
     "elapsed": 1467,
     "status": "ok",
     "timestamp": 1646400759663,
     "user": {
      "displayName": "Jaehoon Cha",
      "photoUrl": "https://lh3.googleusercontent.com/a/default-user=s64",
      "userId": "15142223743084603318"
     },
     "user_tz": 0
    },
    "id": "c3lsqkShIBbQ",
    "outputId": "385e49af-4931-4549-bf89-8b29bd9e65c2"
   },
   "outputs": [
    {
     "name": "stdout",
     "output_type": "stream",
     "text": [
      "Number of training data: 20000\n",
      "Number of test data: 6000\n",
      "Image pixels: (32, 32)\n",
      "Number of channels: 1\n"
     ]
    }
   ],
   "source": [
    "# define image size\n",
    "IMG_HEIGHT = 32\n",
    "IMG_WIDTH = 32\n",
    "N_CHANNELS = 1\n",
    "N_CLASSES = 2\n",
    "\n",
    "### normalize data\n",
    "x_train = (x_train + 1)/2.\n",
    "x_test = (x_test + 1)/2.\n",
    "x_train = x_train.reshape(-1, 32, 32, 1)\n",
    "x_test = x_test.reshape(-1, 32, 32, 1)\n",
    "\n",
    "Tc = 2.27\n",
    "y_train, y_test = T_train > Tc, T_test > Tc\n",
    "\n",
    "string_labels = ['paramagnetic','ferromagnetic']\n",
    "\n",
    "# print\n",
    "print(\"Number of training data: %d\" % len(x_train))\n",
    "print(\"Number of test data: %d\" % len(x_test))\n",
    "print(\"Image pixels: %s\" % str(x_train[0, :, :, 0].shape))\n",
    "print(\"Number of channels: %s\" % str(x_train.shape[-1]))"
   ]
  },
  {
   "cell_type": "code",
   "execution_count": 6,
   "metadata": {
    "colab": {
     "base_uri": "https://localhost:8080/",
     "height": 739
    },
    "executionInfo": {
     "elapsed": 1196,
     "status": "ok",
     "timestamp": 1646400760853,
     "user": {
      "displayName": "Jaehoon Cha",
      "photoUrl": "https://lh3.googleusercontent.com/a/default-user=s64",
      "userId": "15142223743084603318"
     },
     "user_tz": 0
    },
    "id": "HPcwghzKIBbR",
    "outputId": "29ccc3b9-af5f-4270-bedf-4a17524b50e4"
   },
   "outputs": [
    {
     "name": "stderr",
     "output_type": "stream",
     "text": [
      "/tmp/ipykernel_490577/1816722641.py:15: DeprecationWarning: In future, it will be an error for 'np.bool_' scalars to be interpreted as an index\n",
      "  label = \"%d: %s\" % (y_train[idata], string_labels[y_train[idata]])\n"
     ]
    },
    {
     "data": {
      "image/png": "[encoded data removed]",
      "text/plain": [
       "<Figure size 1600x880 with 32 Axes>"
      ]
     },
     "metadata": {},
     "output_type": "display_data"
    }
   ],
   "source": [
    "# function to plot an image in a subplot\n",
    "def subplot_image(image, label, nrows=1, ncols=1, iplot=0, label2='', label2_color='r'):\n",
    "    plt.subplot(nrows, ncols, iplot + 1)\n",
    "    plt.imshow(image.squeeze(), cmap=plt.cm.binary)\n",
    "    plt.xlabel(label, c='k', fontsize=8)\n",
    "    plt.title(label2, c=label2_color, fontsize=8, y=-0.33)\n",
    "    plt.xticks([])\n",
    "    plt.yticks([])\n",
    "    \n",
    "# ramdomly plot some images and their labels\n",
    "nrows = 4\n",
    "ncols = 8\n",
    "plt.figure(dpi=100, figsize=(ncols * 2, nrows * 2.2))\n",
    "for iplot, idata in enumerate(np.random.choice(len(y_train), nrows * ncols)):\n",
    "    label = \"%d: %s\" % (y_train[idata], string_labels[y_train[idata]])\n",
    "    subplot_image(x_train[idata], label, nrows, ncols, iplot)\n",
    "plt.show()"
   ]
  },
  {
   "cell_type": "markdown",
   "metadata": {
    "id": "TlxLCYDqIBbS"
   },
   "source": [
    "---"
   ]
  },
  {
   "cell_type": "markdown",
   "metadata": {
    "id": "EHMycuFuIBbT"
   },
   "source": [
    "# 2. Build the network\n",
    "\n",
    "The task is to build and train a CNN to solve this binary classification problem. \n",
    "\n",
    "**Suggested Answer** \n",
    "\n",
    "<details> <summary>Show / Hide</summary> \n",
    "<p>\n",
    "    \n",
    "```python\n",
    "model = Sequential()\n",
    "model.add(Conv2D(8, kernel_size=(3, 3), activation='relu', padding='same',\n",
    "                 input_shape=(32, 32, 1)))\n",
    "model.add(MaxPool2D(pool_size=(2, 2)))\n",
    "model.add(BatchNormalization())\n",
    "model.add(Conv2D(16, kernel_size=(3, 3), activation='relu', padding='same'))\n",
    "model.add(MaxPool2D(pool_size=(2, 2)))\n",
    "model.add(BatchNormalization())\n",
    "model.add(Flatten())\n",
    "model.add(Dense(1, activation='sigmoid'))\n",
    "\n",
    "# print summary\n",
    "model.summary()\n",
    "```\n",
    "    \n",
    "</p>\n",
    "</details>"
   ]
  },
  {
   "cell_type": "code",
   "execution_count": 7,
   "metadata": {
    "colab": {
     "base_uri": "https://localhost:8080/"
    },
    "executionInfo": {
     "elapsed": 503,
     "status": "ok",
     "timestamp": 1646400761541,
     "user": {
      "displayName": "Jaehoon Cha",
      "photoUrl": "https://lh3.googleusercontent.com/a/default-user=s64",
      "userId": "15142223743084603318"
     },
     "user_tz": 0
    },
    "id": "h3HPHWpPIBbU",
    "outputId": "6bd97955-0abe-4357-9459-4db13b02df58"
   },
   "outputs": [
    {
     "name": "stdout",
     "output_type": "stream",
     "text": [
      "Model: \"sequential\"\n",
      "_________________________________________________________________\n",
      " Layer (type)                Output Shape              Param #   \n",
      "=================================================================\n",
      " conv2d (Conv2D)             (None, 32, 32, 8)         80        \n",
      "                                                                 \n",
      " max_pooling2d (MaxPooling2D  (None, 16, 16, 8)        0         \n",
      " )                                                               \n",
      "                                                                 \n",
      " batch_normalization (BatchN  (None, 16, 16, 8)        32        \n",
      " ormalization)                                                   \n",
      "                                                                 \n",
      " conv2d_1 (Conv2D)           (None, 16, 16, 16)        1168      \n",
      "                                                                 \n",
      " max_pooling2d_1 (MaxPooling  (None, 8, 8, 16)         0         \n",
      " 2D)                                                             \n",
      "                                                                 \n",
      " batch_normalization_1 (Batc  (None, 8, 8, 16)         64        \n",
      " hNormalization)                                                 \n",
      "                                                                 \n",
      " flatten (Flatten)           (None, 1024)              0         \n",
      "                                                                 \n",
      " dense (Dense)               (None, 1)                 1025      \n",
      "                                                                 \n",
      "=================================================================\n",
      "Total params: 2,369\n",
      "Trainable params: 2,321\n",
      "Non-trainable params: 48\n",
      "_________________________________________________________________\n"
     ]
    },
    {
     "name": "stderr",
     "output_type": "stream",
     "text": [
      "2022-03-28 12:09:12.800778: I tensorflow/core/platform/cpu_feature_guard.cc:151] This TensorFlow binary is optimized with oneAPI Deep Neural Network Library (oneDNN) to use the following CPU instructions in performance-critical operations:  SSE4.1 SSE4.2 AVX AVX2 AVX512F FMA\n",
      "To enable them in other operations, rebuild TensorFlow with the appropriate compiler flags.\n",
      "2022-03-28 12:09:13.374169: I tensorflow/core/common_runtime/gpu/gpu_device.cc:1525] Created device /job:localhost/replica:0/task:0/device:GPU:0 with 14773 MB memory:  -> device: 0, name: Quadro RTX 5000, pci bus id: 0000:3b:00.0, compute capability: 7.5\n"
     ]
    }
   ],
   "source": [
    "model = Sequential()\n",
    "model.add(Conv2D(8, kernel_size=(3, 3), activation='relu', padding='same',\n",
    "                 input_shape=(32, 32, 1)))\n",
    "model.add(MaxPool2D(pool_size=(2, 2)))\n",
    "model.add(BatchNormalization())\n",
    "model.add(Conv2D(16, kernel_size=(3, 3), activation='relu', padding='same'))\n",
    "model.add(MaxPool2D(pool_size=(2, 2)))\n",
    "model.add(BatchNormalization())\n",
    "model.add(Flatten())\n",
    "model.add(Dense(1, activation='sigmoid'))\n",
    "\n",
    "# print summary\n",
    "model.summary()"
   ]
  },
  {
   "cell_type": "markdown",
   "metadata": {
    "id": "1DURdhAVIBbU"
   },
   "source": [
    "###  Compile the model\n",
    "\n",
    "We can add the following metrics to see how the network performs for the two classes:\n",
    "\n",
    "* `TruePositives`: number of right predictions for paramagnetic\n",
    "* `FalsePositives`: number of wrong predictions for paramagnetic\n",
    "* `TrueNegatives`: number of right predictions for ferromagnetic\n",
    "* `FalseNegatives`: number of wrong predictions for ferromagnetic\n",
    "\n",
    "**Suggested Answer** \n",
    "\n",
    "<details> <summary>Show / Hide</summary> \n",
    "<p>\n",
    "    \n",
    "```python\n",
    "model.compile(optimizer='adam', loss='binary_crossentropy', \n",
    "              metrics= ['accuracy',\n",
    "                        keras.metrics.TruePositives(name='true_positives'),\n",
    "                        keras.metrics.FalsePositives(name='false_positives'),\n",
    "                        keras.metrics.TrueNegatives(name='true_negatives'),\n",
    "                        keras.metrics.FalseNegatives(name='false_negatives')])\n",
    "```\n",
    "    \n",
    "</p>\n",
    "</details>\n"
   ]
  },
  {
   "cell_type": "code",
   "execution_count": 8,
   "metadata": {
    "id": "3eV6d0JrIBbV"
   },
   "outputs": [],
   "source": [
    "model.compile(optimizer='adam', loss='binary_crossentropy', \n",
    "              metrics= ['accuracy',\n",
    "                        keras.metrics.TruePositives(name='true_positives'),\n",
    "                        keras.metrics.FalsePositives(name='false_positives'),\n",
    "                        keras.metrics.TrueNegatives(name='true_negatives'),\n",
    "                        keras.metrics.FalseNegatives(name='false_negatives')])"
   ]
  },
  {
   "cell_type": "markdown",
   "metadata": {
    "id": "-a1YscORIBbV"
   },
   "source": [
    "### Train the model\n",
    "\n",
    "Using the suggested architecture, we can achieve an accuracy greater than 97% with 2 epochs. \n",
    "\n",
    "**Suggested Answer** \n",
    "\n",
    "<details> <summary>Show / Hide</summary> \n",
    "<p>\n",
    "    \n",
    "```python\n",
    "stopper=EarlyStopping( monitor =\"val_loss\", min_delta=0.0,verbose=1,\n",
    "                      mode=\"min\",\n",
    "                      restore_best_weights=True,patience=2)\n",
    "\n",
    "training_history = model.fit(x_train, y_train, validation_data=(x_test, y_test), \n",
    "                             epochs=10, batch_size=64,callbacks=[stopper])\n",
    "\n",
    "# print final values of metrics for validation data\n",
    "print('Right for Paramagnetic: %d' % training_history.history['val_true_positives'][-1])\n",
    "print('Wrong for Paramagnetic: %d' % training_history.history['val_false_positives'][-1])\n",
    "print('Right for Ferromagnetic: %d' % training_history.history['val_true_negatives'][-1])\n",
    "print('Wrong for Ferromagnetic: %d' % training_history.history['val_false_negatives'][-1])\n",
    "```\n",
    "    \n",
    "</p>\n",
    "</details>"
   ]
  },
  {
   "cell_type": "code",
   "execution_count": 9,
   "metadata": {
    "colab": {
     "base_uri": "https://localhost:8080/"
    },
    "executionInfo": {
     "elapsed": 76395,
     "status": "ok",
     "timestamp": 1646400915611,
     "user": {
      "displayName": "Jaehoon Cha",
      "photoUrl": "https://lh3.googleusercontent.com/a/default-user=s64",
      "userId": "15142223743084603318"
     },
     "user_tz": 0
    },
    "id": "CutXmWrrIBbV",
    "outputId": "a7f0bd30-cc61-4ca5-c302-e98dc1a781a1"
   },
   "outputs": [
    {
     "name": "stdout",
     "output_type": "stream",
     "text": [
      "Epoch 1/10\n"
     ]
    },
    {
     "name": "stderr",
     "output_type": "stream",
     "text": [
      "2022-03-28 12:09:14.988685: I tensorflow/stream_executor/cuda/cuda_dnn.cc:366] Loaded cuDNN version 8201\n",
      "2022-03-28 12:09:15.442493: I tensorflow/core/platform/default/subprocess.cc:304] Start cannot spawn child process: No such file or directory\n",
      "2022-03-28 12:09:15.443103: I tensorflow/core/platform/default/subprocess.cc:304] Start cannot spawn child process: No such file or directory\n",
      "2022-03-28 12:09:15.443118: W tensorflow/stream_executor/gpu/asm_compiler.cc:80] Couldn't get ptxas version string: INTERNAL: Couldn't invoke ptxas --version\n",
      "2022-03-28 12:09:15.443633: I tensorflow/core/platform/default/subprocess.cc:304] Start cannot spawn child process: No such file or directory\n",
      "2022-03-28 12:09:15.443676: W tensorflow/stream_executor/gpu/redzone_allocator.cc:314] INTERNAL: Failed to launch ptxas\n",
      "Relying on driver to perform ptx compilation. \n",
      "Modify $PATH to customize ptxas location.\n",
      "This message will be only logged once.\n"
     ]
    },
    {
     "name": "stdout",
     "output_type": "stream",
     "text": [
      "313/313 [==============================] - 5s 8ms/step - loss: 0.0632 - accuracy: 0.9761 - true_positives: 9709.0000 - false_positives: 223.0000 - true_negatives: 9812.0000 - false_negatives: 256.0000 - val_loss: 0.3847 - val_accuracy: 0.8422 - val_true_positives: 2088.0000 - val_false_positives: 0.0000e+00 - val_true_negatives: 2965.0000 - val_false_negatives: 947.0000\n",
      "Epoch 2/10\n",
      "313/313 [==============================] - 2s 7ms/step - loss: 0.0474 - accuracy: 0.9807 - true_positives: 9759.0000 - false_positives: 181.0000 - true_negatives: 9854.0000 - false_negatives: 206.0000 - val_loss: 0.0491 - val_accuracy: 0.9798 - val_true_positives: 2950.0000 - val_false_positives: 36.0000 - val_true_negatives: 2929.0000 - val_false_negatives: 85.0000\n",
      "Epoch 3/10\n",
      "313/313 [==============================] - 2s 7ms/step - loss: 0.0457 - accuracy: 0.9815 - true_positives: 9773.0000 - false_positives: 177.0000 - true_negatives: 9858.0000 - false_negatives: 192.0000 - val_loss: 0.0401 - val_accuracy: 0.9827 - val_true_positives: 2995.0000 - val_false_positives: 64.0000 - val_true_negatives: 2901.0000 - val_false_negatives: 40.0000\n",
      "Epoch 4/10\n",
      "313/313 [==============================] - 2s 7ms/step - loss: 0.0402 - accuracy: 0.9833 - true_positives: 9789.0000 - false_positives: 158.0000 - true_negatives: 9877.0000 - false_negatives: 176.0000 - val_loss: 0.0392 - val_accuracy: 0.9842 - val_true_positives: 2984.0000 - val_false_positives: 44.0000 - val_true_negatives: 2921.0000 - val_false_negatives: 51.0000\n",
      "Epoch 5/10\n",
      "313/313 [==============================] - 2s 7ms/step - loss: 0.0369 - accuracy: 0.9848 - true_positives: 9803.0000 - false_positives: 142.0000 - true_negatives: 9893.0000 - false_negatives: 162.0000 - val_loss: 0.0414 - val_accuracy: 0.9828 - val_true_positives: 2987.0000 - val_false_positives: 55.0000 - val_true_negatives: 2910.0000 - val_false_negatives: 48.0000\n",
      "Epoch 6/10\n",
      "312/313 [============================>.] - ETA: 0s - loss: 0.0324 - accuracy: 0.9863 - true_positives: 9804.0000 - false_positives: 133.0000 - true_negatives: 9891.0000 - false_negatives: 140.0000Restoring model weights from the end of the best epoch: 4.\n",
      "313/313 [==============================] - 2s 7ms/step - loss: 0.0324 - accuracy: 0.9863 - true_positives: 9824.0000 - false_positives: 133.0000 - true_negatives: 9902.0000 - false_negatives: 141.0000 - val_loss: 0.0425 - val_accuracy: 0.9818 - val_true_positives: 2980.0000 - val_false_positives: 54.0000 - val_true_negatives: 2911.0000 - val_false_negatives: 55.0000\n",
      "Epoch 00006: early stopping\n",
      "Right for Paramagnetic: 2980\n",
      "Wrong for Paramagnetic: 54\n",
      "Right for Ferromagnetic: 2911\n",
      "Wrong for Ferromagnetic: 55\n"
     ]
    }
   ],
   "source": [
    "stopper=EarlyStopping( monitor =\"val_loss\", min_delta=0.0,verbose=1,\n",
    "                      mode=\"min\",\n",
    "                      restore_best_weights=True,patience=2)\n",
    "\n",
    "training_history = model.fit(x_train, y_train, validation_data=(x_test, y_test), \n",
    "                             epochs=10, batch_size=64,callbacks=[stopper])\n",
    "\n",
    "# print final values of metrics for validation data\n",
    "print('Right for Paramagnetic: %d' % training_history.history['val_true_positives'][-1])\n",
    "print('Wrong for Paramagnetic: %d' % training_history.history['val_false_positives'][-1])\n",
    "print('Right for Ferromagnetic: %d' % training_history.history['val_true_negatives'][-1])\n",
    "print('Wrong for Ferromagnetic: %d' % training_history.history['val_false_negatives'][-1])"
   ]
  },
  {
   "cell_type": "markdown",
   "metadata": {
    "id": "WIegCrM3IBbX"
   },
   "source": [
    "---"
   ]
  },
  {
   "cell_type": "markdown",
   "metadata": {
    "id": "auKT1kURIBbY"
   },
   "source": [
    "# 3. Analyse results "
   ]
  },
  {
   "cell_type": "markdown",
   "metadata": {
    "id": "IKCZM6vWIBbY"
   },
   "source": [
    "### Plot training history\n",
    "\n",
    "For convenience, we define a function to plot a training history:"
   ]
  },
  {
   "cell_type": "code",
   "execution_count": 10,
   "metadata": {
    "id": "1pm9Hg3eIBbY"
   },
   "outputs": [],
   "source": [
    "# a function to plot training history\n",
    "def plot_history(training_history):\n",
    "    # plot accuracy\n",
    "    plt.figure(dpi=100, figsize=(12, 4))\n",
    "    plt.subplot(1, 2, 1)\n",
    "    plt.plot(training_history.history[acc_str], label='Accuracy on training data')\n",
    "    plt.plot(training_history.history['val_' + acc_str], label='Accuracy on test data')\n",
    "    plt.legend()\n",
    "    plt.title(\"Accuracy\")\n",
    "\n",
    "    # plot loss\n",
    "    plt.subplot(1, 2, 2)\n",
    "    plt.plot(training_history.history['loss'], label='Loss on training data')\n",
    "    plt.plot(training_history.history['val_loss'], label='Loss on test data')\n",
    "    plt.legend()\n",
    "    plt.title(\"Loss\")\n",
    "    plt.show()"
   ]
  },
  {
   "cell_type": "markdown",
   "metadata": {
    "id": "gaPANfPXIBbZ"
   },
   "source": [
    "**Suggested Answer** \n",
    "\n",
    "<details> <summary>Show / Hide</summary> \n",
    "<p>\n",
    "    \n",
    "```python\n",
    "# plot training history\n",
    "plot_history(training_history)\n",
    "```\n",
    "    \n",
    "</p>\n",
    "</details>"
   ]
  },
  {
   "cell_type": "code",
   "execution_count": 11,
   "metadata": {
    "colab": {
     "base_uri": "https://localhost:8080/",
     "height": 385
    },
    "executionInfo": {
     "elapsed": 7782,
     "status": "ok",
     "timestamp": 1646400923388,
     "user": {
      "displayName": "Jaehoon Cha",
      "photoUrl": "https://lh3.googleusercontent.com/a/default-user=s64",
      "userId": "15142223743084603318"
     },
     "user_tz": 0
    },
    "id": "Jemv4st_IBbZ",
    "outputId": "1d8ff878-7e48-4d81-aa0f-1f9ac9214f6a"
   },
   "outputs": [
    {
     "data": {
      "image/png": "[encoded data removed]",
      "text/plain": [
       "<Figure size 1200x400 with 2 Axes>"
      ]
     },
     "metadata": {
      "needs_background": "light"
     },
     "output_type": "display_data"
    }
   ],
   "source": [
    "# plot training history\n",
    "plot_history(training_history)"
   ]
  },
  {
   "cell_type": "markdown",
   "metadata": {
    "id": "sSdr9yxyIBbZ"
   },
   "source": [
    "# 4. Exercises\n",
    "\n",
    "* Change some hyperparameters in `model.compile()` and `model.fit()` to see their effects (see reference of [tf.keras.Model](https://www.tensorflow.org/api_docs/python/tf/keras/Model)); \n",
    "* Change the architeture and activation functions of neural networks to improve the accuracy"
   ]
  },
  {
   "cell_type": "code",
   "execution_count": null,
   "metadata": {
    "id": "8P1KWTI-IBbZ"
   },
   "outputs": [],
   "source": []
  }
 ],
 "metadata": {
  "colab": {
   "collapsed_sections": [],
   "name": "Physics_ferromagnetic and paramagnetic classification_solution.ipynb",
   "provenance": []
  },
  "kernelspec": {
   "display_name": "Python 3 (ipykernel)",
   "language": "python",
   "name": "python3"
  },
  "language_info": {
   "codemirror_mode": {
    "name": "ipython",
    "version": 3
   },
   "file_extension": ".py",
   "mimetype": "text/x-python",
   "name": "python",
   "nbconvert_exporter": "python",
   "pygments_lexer": "ipython3",
   "version": "3.8.12"
  }
 },
 "nbformat": 4,
 "nbformat_minor": 1
}
